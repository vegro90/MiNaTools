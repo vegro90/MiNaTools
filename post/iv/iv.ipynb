{
 "cells": [
  {
   "cell_type": "markdown",
   "metadata": {
    "collapsed": true
   },
   "source": [
    "# IV Plotting\n",
    "\n",
    "Import libraries"
   ]
  },
  {
   "cell_type": "code",
   "execution_count": 39,
   "metadata": {
    "collapsed": true
   },
   "outputs": [],
   "source": [
    "from matplotlib import pyplot as plt\n",
    "import numpy as np\n",
    "import pandas as pd\n",
    "import os\n",
    "import csv"
   ]
  },
  {
   "cell_type": "markdown",
   "metadata": {
    "collapsed": false
   },
   "source": [
    "Uncomment to show plots inside this notebook"
   ]
  },
  {
   "cell_type": "code",
   "execution_count": 14,
   "metadata": {
    "collapsed": false
   },
   "outputs": [],
   "source": [
    "#%matplotlib inline"
   ]
  },
  {
   "cell_type": "markdown",
   "metadata": {
    "collapsed": false
   },
   "source": [
    "Add data file directory and file names"
   ]
  },
  {
   "cell_type": "code",
   "execution_count": 84,
   "metadata": {
    "collapsed": false
   },
   "outputs": [],
   "source": [
    "data_directory = \"M:\\master\\master\\measurements\\IV\"\n",
    "data_file_names = ([\n",
    "    \"20171208_Si_5-150nm300_contact_-2-2V_dark.txt\",\n",
    "    \"20171208_Si_5-150nm300_contact_-2-2V_light.txt\",\n",
    "    \"20171208_Si_5-150nm600_contact_-2-2V_dark.txt\",\n",
    "    \"20171208_Si_5-150nm600_contact_-2-2V_light.txt\",\n",
    "    \"20171208_Si_5-150nm900_contact_-2-2V_dark.txt\",\n",
    "    \"20171208_Si_5-150nm900_contact_-2-2V_light.txt\"\n",
    "])\n",
    "data_files = []\n",
    "for names in data_file_names:\n",
    "    data_files.append(os.path.join(data_directory, names))\n",
    "\n",
    "#print(data_files)"
   ]
  },
  {
   "cell_type": "markdown",
   "metadata": {},
   "source": [
    "Get data using _csv_\n"
   ]
  },
  {
   "cell_type": "code",
   "execution_count": 85,
   "metadata": {},
   "outputs": [],
   "source": [
    "bias = []\n",
    "current = []\n",
    "with open(data_files[0]) as file:\n",
    "    reader = csv.reader(file, delimiter = \"\\t\")\n",
    "    next(reader, None)\n",
    "    \n",
    "    for row in reader:\n",
    "        bias.append(row[0])\n",
    "        current.append(row[1])\n",
    "#plt.plot(bias,current)\n",
    "#plt.show()"
   ]
  },
  {
   "cell_type": "markdown",
   "metadata": {},
   "source": [
    "Get data using _pandas_\n"
   ]
  },
  {
   "cell_type": "code",
   "execution_count": 83,
   "metadata": {},
   "outputs": [
    {
     "data": {
      "text/plain": [
       "0    -2.00\n1    -1.75\n2    -1.50\n3    -1.25\n4    -1.00\n5    -0.75\n6    -0.50\n7    -0.25\n8     0.00\n9     0.25\n10    0.50\n11    0.75\n12    1.00\n13    1.25\n14    1.50\n15    1.75\n16    2.00\nName: bias, dtype: float64"
      ]
     },
     "execution_count": 83,
     "metadata": {},
     "output_type": "execute_result"
    }
   ],
   "source": [
    "headers = [\"bias\", \"absmean\", \"mean\", \"range/2\", \"relError\"]\n",
    "pd_data = pd.read_csv(data_files[0], sep=\"\\t\", skipinitialspace=True, skiprows=1, names=headers)\n",
    "\n",
    "pd_data[\"bias\"]\n",
    "#plt.plot(pd_data[\"bias\"], pd_data[\"absmean\"])\n",
    "#plt.show()"
   ]
  },
  {
   "cell_type": "code",
   "execution_count": null,
   "metadata": {},
   "outputs": [],
   "source": []
  }
 ],
 "metadata": {
  "kernelspec": {
   "display_name": "Python 2",
   "language": "python",
   "name": "python2"
  },
  "language_info": {
   "codemirror_mode": {
    "name": "ipython",
    "version": 2
   },
   "file_extension": ".py",
   "mimetype": "text/x-python",
   "name": "python",
   "nbconvert_exporter": "python",
   "pygments_lexer": "ipython2",
   "version": "2.7.6"
  }
 },
 "nbformat": 4,
 "nbformat_minor": 0
}
